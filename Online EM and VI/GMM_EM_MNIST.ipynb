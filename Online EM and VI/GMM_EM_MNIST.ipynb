{
  "nbformat": 4,
  "nbformat_minor": 0,
  "metadata": {
    "colab": {
      "name": "GMM_EM_MNIST.ipynb",
      "version": "0.3.2",
      "provenance": [],
      "collapsed_sections": [],
      "include_colab_link": true
    },
    "kernelspec": {
      "name": "python3",
      "display_name": "Python 3"
    }
  },
  "cells": [
    {
      "cell_type": "markdown",
      "metadata": {
        "id": "view-in-github",
        "colab_type": "text"
      },
      "source": [
        "<a href=\"https://colab.research.google.com/github/Avinandan22/ProbabilisticMachineLearning-PClub/blob/master/GMM_EM_MNIST.ipynb\" target=\"_parent\"><img src=\"https://colab.research.google.com/assets/colab-badge.svg\" alt=\"Open In Colab\"/></a>"
      ]
    },
    {
      "cell_type": "code",
      "metadata": {
        "id": "nBoFRZOfYEel",
        "colab_type": "code",
        "outputId": "a2680fdc-49ee-4928-bfd2-5b8d1b48d84c",
        "colab": {
          "resources": {
            "http://localhost:8080/nbextensions/google.colab/files.js": {
              "data": "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",
              "ok": true,
              "headers": [
                [
                  "content-type",
                  "application/javascript"
                ]
              ],
              "status": 200,
              "status_text": "OK"
            }
          },
          "base_uri": "https://localhost:8080/",
          "height": 83
        }
      },
      "source": [
        "from google.colab import files\n",
        "uploaded = files.upload()"
      ],
      "execution_count": 0,
      "outputs": [
        {
          "output_type": "display_data",
          "data": {
            "text/html": [
              "\n",
              "     <input type=\"file\" id=\"files-d5d8666e-035f-4a40-a00d-9fa3636bdfc7\" name=\"files[]\" multiple disabled />\n",
              "     <output id=\"result-d5d8666e-035f-4a40-a00d-9fa3636bdfc7\">\n",
              "      Upload widget is only available when the cell has been executed in the\n",
              "      current browser session. Please rerun this cell to enable.\n",
              "      </output>\n",
              "      <script src=\"/nbextensions/google.colab/files.js\"></script> "
            ],
            "text/plain": [
              "<IPython.core.display.HTML object>"
            ]
          },
          "metadata": {
            "tags": []
          }
        },
        {
          "output_type": "stream",
          "text": [
            "Saving mnist_test.csv to mnist_test.csv\n"
          ],
          "name": "stdout"
        }
      ]
    },
    {
      "cell_type": "code",
      "metadata": {
        "id": "k20vGHm4YNSp",
        "colab_type": "code",
        "colab": {}
      },
      "source": [
        "import numpy as np\n",
        "import pandas as pd\n",
        "import matplotlib.pyplot as plt"
      ],
      "execution_count": 0,
      "outputs": []
    },
    {
      "cell_type": "code",
      "metadata": {
        "id": "oBJfm8_Ih2eT",
        "colab_type": "code",
        "colab": {}
      },
      "source": [
        "data = pd.read_csv(\"mnist_test.csv\")\n",
        "X = np.array(data.iloc[ : , 1 : 785])\n",
        "F = X.shape[1]\n",
        "N = X.shape[0]"
      ],
      "execution_count": 0,
      "outputs": []
    },
    {
      "cell_type": "code",
      "metadata": {
        "id": "3Qvf-2Ceh-bZ",
        "colab_type": "code",
        "outputId": "5e1493a1-92ec-4df0-dafa-3ca3016b2872",
        "colab": {
          "base_uri": "https://localhost:8080/",
          "height": 34
        }
      },
      "source": [
        "#generating pi - a multinoulli distribution for the various clusters\n",
        "k = 10\n",
        "pi = np.random.randint(1,2,size = k)\n",
        "pi = pi / sum(pi)\n",
        "pi"
      ],
      "execution_count": 0,
      "outputs": [
        {
          "output_type": "execute_result",
          "data": {
            "text/plain": [
              "array([0.1, 0.1, 0.1, 0.1, 0.1, 0.1, 0.1, 0.1, 0.1, 0.1])"
            ]
          },
          "metadata": {
            "tags": []
          },
          "execution_count": 215
        }
      ]
    },
    {
      "cell_type": "code",
      "metadata": {
        "id": "zbT6bDKfjZyK",
        "colab_type": "code",
        "colab": {}
      },
      "source": [
        "#generating mu\n",
        "mu = np.random.randint(0,256,size = (k, F))"
      ],
      "execution_count": 0,
      "outputs": []
    },
    {
      "cell_type": "code",
      "metadata": {
        "id": "JdXRNnIAjgxx",
        "colab_type": "code",
        "colab": {}
      },
      "source": [
        "#generating isotropic sigma\n",
        "sigma = np.random.randint(1,5,size = (k, F)) "
      ],
      "execution_count": 0,
      "outputs": []
    },
    {
      "cell_type": "code",
      "metadata": {
        "id": "axLq45esn4vT",
        "colab_type": "code",
        "outputId": "3a512ece-1a06-4a50-b6b0-2ed6ed02cbdc",
        "colab": {
          "base_uri": "https://localhost:8080/",
          "height": 34
        }
      },
      "source": [
        "#creating gamma\n",
        "gamma = np.zeros((N, k))\n",
        "Nk = np.zeros(k)\n",
        "np.sum(gamma,axis = 0)"
      ],
      "execution_count": 0,
      "outputs": [
        {
          "output_type": "execute_result",
          "data": {
            "text/plain": [
              "array([0., 0., 0., 0., 0., 0., 0., 0., 0., 0.])"
            ]
          },
          "metadata": {
            "tags": []
          },
          "execution_count": 218
        }
      ]
    },
    {
      "cell_type": "code",
      "metadata": {
        "id": "t4bf2xicqSBm",
        "colab_type": "code",
        "outputId": "140fa563-9973-45b6-a0be-bb81166edb4c",
        "colab": {
          "base_uri": "https://localhost:8080/",
          "height": 34
        }
      },
      "source": [
        "def exp_Gaussian(X, mu, sigma):\n",
        "  return -0.5 * ((X - mu) ** 2) @ (1 / sigma) \n",
        "pi[0] * exp_Gaussian(X[0], mu[0], sigma[0])"
      ],
      "execution_count": 0,
      "outputs": [
        {
          "output_type": "execute_result",
          "data": {
            "text/plain": [
              "-376220.2375"
            ]
          },
          "metadata": {
            "tags": []
          },
          "execution_count": 219
        }
      ]
    },
    {
      "cell_type": "code",
      "metadata": {
        "id": "Kv2qKHE2FXrv",
        "colab_type": "code",
        "colab": {}
      },
      "source": [
        "NK = np.zeros(k)"
      ],
      "execution_count": 0,
      "outputs": []
    },
    {
      "cell_type": "code",
      "metadata": {
        "id": "fln3Zf0FAGiY",
        "colab_type": "code",
        "outputId": "fb42b7ce-7cda-4a3a-e1db-9180ae26a454",
        "colab": {
          "base_uri": "https://localhost:8080/",
          "height": 191
        }
      },
      "source": [
        "epoch = 1\n",
        "for i in range (epoch):\n",
        "  #E step\n",
        "  for j in range (N):\n",
        "    temp = np.zeros(k)\n",
        "    for z in range(k):\n",
        "      temp[z] = exp_Gaussian(X[j], mu[z], sigma[z]) + np.log(pi[z]) - np.sum(np.log(sigma[z]))\n",
        "    c = np.amax(temp)\n",
        "    temp2 = np.exp(temp - c)\n",
        "    b = np.log(np.sum(temp2))\n",
        "    for z in range(k):\n",
        "      gamma[j][z] = np.exp(temp[z] - b - c)\n",
        "      #print (gamma[j][z]) \n",
        "  NK = np.sum(gamma,axis = 0)\n",
        "  pi = NK / N\n",
        "  for z in range(k):\n",
        "    print (NK[z])\n",
        "  #M step\n",
        "  for z in range (k):\n",
        "    if(NK[z] != 0):\n",
        "      mu[z] = np.sum((X.T * gamma[:, z]).T, axis = 0) / NK[z]\n",
        "      sigma[z] = np.sum(((((X - mu[z]) ** 2).T * gamma[:, z]).T) , axis = 0) / NK[z]\n",
        "  "
      ],
      "execution_count": 0,
      "outputs": [
        {
          "output_type": "stream",
          "text": [
            "7746.968102989458\n",
            "557.0000000210335\n",
            "0.0\n",
            "8.0\n",
            "93.0\n",
            "162.0\n",
            "14.0\n",
            "0.0\n",
            "884.0318970109471\n",
            "534.9999999790452\n"
          ],
          "name": "stdout"
        }
      ]
    },
    {
      "cell_type": "code",
      "metadata": {
        "id": "4U2xomRRa7uZ",
        "colab_type": "code",
        "outputId": "3f06b2fc-e5e0-4306-fc68-d65cd2bcca46",
        "colab": {
          "base_uri": "https://localhost:8080/",
          "height": 1000
        }
      },
      "source": [
        "sigma[0]"
      ],
      "execution_count": 0,
      "outputs": [
        {
          "output_type": "execute_result",
          "data": {
            "text/plain": [
              "array([    0,     0,     0,     0,     0,     0,     0,     0,     0,\n",
              "           0,     0,     0,     0,     0,     0,     0,     0,     0,\n",
              "           0,     0,     0,     0,     0,     0,     0,     0,     0,\n",
              "           0,     0,     0,     0,     0,     0,     0,     7,     3,\n",
              "           7,     4,    20,    50,    79,    62,    69,    48,     8,\n",
              "          22,    18,    15,     3,     0,     0,     0,     0,     0,\n",
              "           0,     0,     0,     0,     0,     0,     0,     7,    29,\n",
              "          29,    36,    71,   182,   397,   539,   602,   794,   779,\n",
              "         564,   372,   341,   312,   208,   106,    63,    17,     0,\n",
              "           0,     0,     0,     0,     0,     0,     0,     2,    13,\n",
              "          41,    67,   176,   375,   759,  1149,  1485,  1908,  2117,\n",
              "        2020,  1623,  1285,  1200,  1023,   671,   376,   209,    67,\n",
              "          29,     9,     3,     0,     0,     0,     0,     0,    10,\n",
              "          25,   118,   328,   705,  1313,  2290,  3362,  4333,  5271,\n",
              "        5940,  5946,  5612,  5054,  4298,  3484,  2493,  1487,   820,\n",
              "         427,   167,    45,    12,     0,     0,     0,     0,     1,\n",
              "          49,   168,   438,   975,  1877,  3084,  4792,  6502,  8107,\n",
              "        9539, 10487, 10792, 10611, 10078,  8860,  7366,  5600,  3859,\n",
              "        2370,  1280,   603,   148,    40,     0,     0,     0,     0,\n",
              "          40,   212,   507,  1057,  2116,  3540,  5243,  7258,  9219,\n",
              "       10746, 11799, 12298, 12498, 12533, 12478, 11660, 10144,  8258,\n",
              "        5931,  3916,  2161,  1156,   368,    91,     5,     0,     2,\n",
              "          13,   119,   469,  1022,  1957,  3404,  5169,  7226,  9356,\n",
              "       10954, 11967, 12178, 12158, 12124, 12036, 12199, 12251, 11668,\n",
              "        9844,  7393,  4776,  2856,  1415,   534,   109,     4,     0,\n",
              "           8,    52,   198,   716,  1577,  2825,  4431,  6648,  9044,\n",
              "       11191, 12320, 12425, 12411, 12589, 12295, 12173, 12267, 12352,\n",
              "       12090, 10472,  7816,  5009,  2845,  1456,   623,   149,    10,\n",
              "           2,    23,   111,   349,   921,  1811,  3142,  4717,  7378,\n",
              "       10264, 12036, 12501, 12291, 12095, 12260, 11927, 11966, 12322,\n",
              "       12462, 12069, 10399,  7468,  4519,  2459,  1181,   439,   105,\n",
              "          10,     7,    15,    95,   311,   799,  1561,  2715,  4586,\n",
              "        7708, 10849, 12315, 12221, 11464, 10931, 10981, 11203, 11503,\n",
              "       12221, 12299, 11791,  9889,  6617,  3746,  1819,   708,   221,\n",
              "          75,    14,     0,     3,    73,   203,   499,  1145,  2300,\n",
              "        4720,  8498, 11477, 12208, 11648, 10501,  9981, 10752, 11550,\n",
              "       11718, 12136, 12315, 11474,  9149,  5733,  3047,  1463,   551,\n",
              "         115,    45,     3,     0,     3,    48,   103,   282,   871,\n",
              "        2285,  5420,  9352, 11811, 12229, 11534, 10580, 10723, 12089,\n",
              "       12440, 11833, 12432, 12434, 10939,  8062,  4899,  2736,  1343,\n",
              "         473,    86,     3,     0,     0,     3,    12,    50,   185,\n",
              "         776,  2597,  6174,  9982, 11909, 12152, 11860, 11476, 12055,\n",
              "       13141, 12312, 11676, 12551, 12402, 10100,  7012,  4343,  2601,\n",
              "        1343,   453,    87,     8,     0,     0,     0,     1,    19,\n",
              "         140,   869,  2844,  6615, 10025, 11746, 12121, 11855, 11666,\n",
              "       12513, 12707, 11369, 11574, 12738, 12285,  9572,  6522,  4077,\n",
              "        2517,  1518,   529,    92,     4,     0,     0,     0,     2,\n",
              "          17,   173,  1024,  3025,  6405,  9568, 11173, 11538, 11425,\n",
              "       11904, 12555, 12179, 11003, 11811, 12689, 11932,  9389,  6447,\n",
              "        4250,  2777,  1617,   586,   121,     6,     0,     0,     0,\n",
              "          18,    34,   265,  1370,  3415,  6048,  8791, 10378, 10712,\n",
              "       10976, 11935, 12605, 12342, 11585, 12300, 12464, 11644,  9535,\n",
              "        6713,  4351,  2832,  1531,   555,   151,    12,     2,     0,\n",
              "           0,    27,   105,   555,  1970,  3743,  5873,  8031,  9779,\n",
              "       10271, 10775, 11768, 12513, 12498, 12063, 12306, 12113, 11589,\n",
              "        9812,  6703,  4470,  2728,  1370,   464,   107,     4,     3,\n",
              "           0,     2,    34,   212,   877,  2449,  4278,  6058,  7947,\n",
              "        9382, 10203, 10854, 11545, 12218, 12329, 12241, 12272, 12136,\n",
              "       11587,  9525,  6301,  4012,  2329,  1043,   372,    99,    12,\n",
              "           0,     0,     8,    40,   333,  1177,  2852,  4844,  6597,\n",
              "        8152,  9531, 10633, 11312, 11799, 12274, 12455, 12340, 12335,\n",
              "       12263, 10959,  8453,  5465,  3369,  1878,   890,   380,   121,\n",
              "           9,     0,     0,     0,    45,   385,  1177,  2887,  5139,\n",
              "        7051,  8666, 10006, 11233, 11853, 12296, 12221, 12332, 12307,\n",
              "       12273, 11613,  9523,  6624,  4206,  2574,  1433,   702,   320,\n",
              "          96,    11,     0,     0,     0,    41,   330,   974,  2458,\n",
              "        4741,  7209,  9053, 10657, 11710, 12111, 12211, 12007, 12055,\n",
              "       12243, 11951, 10500,  7764,  4950,  2852,  1662,   856,   484,\n",
              "         198,    44,    12,     0,     0,     0,    15,   125,   484,\n",
              "        1615,  3516,  6112,  8676, 10843, 12125, 12512, 12461, 12399,\n",
              "       12554, 12429, 11301,  8563,  5633,  3232,  1594,   851,   452,\n",
              "         253,   111,    29,     2,     0,     0,     0,     5,    37,\n",
              "         172,   691,  1786,  3932,  6521,  9034, 10913, 11962, 12376,\n",
              "       12325, 12044, 11187,  9000,  5848,  3263,  1645,   787,   375,\n",
              "         209,    88,    19,     9,     0,     0,     0,     0,     0,\n",
              "           8,    56,   236,   566,  1525,  3168,  5131,  6966,  8274,\n",
              "        9105,  9161,  8679,  7302,  5277,  2976,  1463,   780,   399,\n",
              "         152,    66,    22,     1,     0,     0,     0,     0,     0,\n",
              "           0,     0,    16,    71,   232,   601,  1252,  2090,  2958,\n",
              "        3801,  4254,  4391,  4165,  3260,  2218,  1150,   535,   302,\n",
              "         168,   100,    32,     9,     2,     0,     0,     0,     0,\n",
              "           0,     0,     0,     0,    17,    88,   213,   409,   708,\n",
              "         982,  1293,  1530,  1592,  1414,  1064,   740,   382,   149,\n",
              "          92,    69,    49,    19,    12,     0,     0,     0,     0,\n",
              "           0,     0,     0,     0,     0,     0,     0,     7,    21,\n",
              "          29,    36,    35,    72,   111,   131,   123,    84,    40,\n",
              "          15,    21,     5,     0,     0,     0,     0,     0,     0,\n",
              "           0])"
            ]
          },
          "metadata": {
            "tags": []
          },
          "execution_count": 239
        }
      ]
    },
    {
      "cell_type": "code",
      "metadata": {
        "id": "AgXZf83ASLTX",
        "colab_type": "code",
        "outputId": "274e3a1d-e59a-4042-c7c8-7ee1b8f5302e",
        "colab": {
          "base_uri": "https://localhost:8080/",
          "height": 286
        }
      },
      "source": [
        "plt.imshow(mu[0].reshape(28, 28))"
      ],
      "execution_count": 0,
      "outputs": [
        {
          "output_type": "execute_result",
          "data": {
            "text/plain": [
              "<matplotlib.image.AxesImage at 0x7f7a9a5cc7f0>"
            ]
          },
          "metadata": {
            "tags": []
          },
          "execution_count": 231
        },
        {
          "output_type": "display_data",
          "data": {
            "image/png": "[encoded data removed]",
            "text/plain": [
              "<Figure size 432x288 with 1 Axes>"
            ]
          },
          "metadata": {
            "tags": []
          }
        }
      ]
    }
  ]
}